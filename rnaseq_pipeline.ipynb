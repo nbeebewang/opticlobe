{
 "cells": [
  {
   "cell_type": "code",
   "execution_count": 22,
   "metadata": {
    "collapsed": true
   },
   "outputs": [],
   "source": [
    "import subprocess\n",
    "import os"
   ]
  },
  {
   "cell_type": "markdown",
   "metadata": {},
   "source": [
    "fastq.gz files are saved at:\n",
    "/n/eddyfs01/pkoo/data/opticlobe/data"
   ]
  },
  {
   "cell_type": "markdown",
   "metadata": {},
   "source": [
    "Steps:\n",
    "\n",
    "\n",
    "\n",
    "ONCE FOR GENOME: \n",
    "\n",
    "get drosophila reference genome (dm6)\n",
    "\n",
    "convert reference genome form .2bit to .fa:\n",
    "twoBitToFa dm6.2bit dm6.fa\n",
    "\n",
    "bowtie2-build (reference_genome.fa) (index_name) ----> produces 6 files  (with suffixes: .1.bt2, .2.bt2, .3.bt2, .4.bt2, rev.1.bt2, rev.2.bt2), which, together, serve to constitute the index. These index files are crucial to quickly align reads to the reference.\n",
    "\n",
    "\n",
    "\n",
    "\n",
    "\n",
    "FOR EACH DATA FILE:\n",
    "\n",
    "unzip file:\n",
    "gunzip filename.fastq.gz\n",
    "--> filename.fastq\n",
    "\n",
    "Align reads to reference genome with TopHat2:\n",
    "tophat2 -p (#processors) -G (reference_annotation) -o (output(directory?)) (reference_genome) (data.fastq)\n",
    "\n",
    "eg: tophat2 -p 2 -G dm6_Ensembl.gtf -o C1_R1_align genome GSM794483_C1_R1.fq\n",
    "\n",
    "Assemble transcripts with Cufflinks:\n",
    "cufflinks -p (# of processors) -o (output) (path to accepted_hits.bam)\n",
    "\n",
    "eg: cufflinks -p 2 -o C1_R1_cuff C1_R1_align/accepted_hits.bam\n"
   ]
  },
  {
   "cell_type": "code",
   "execution_count": 29,
   "metadata": {
    "collapsed": false
   },
   "outputs": [
    {
     "ename": "OSError",
     "evalue": "[Errno 2] No such file or directory: 'nbeebewang@login.rc.fas.harvard.edu:/n/eddyfs01/pkoo/data/'",
     "output_type": "error",
     "traceback": [
      "\u001b[0;31m---------------------------------------------------------------------------\u001b[0m",
      "\u001b[0;31mOSError\u001b[0m                                   Traceback (most recent call last)",
      "\u001b[0;32m<ipython-input-29-fc53d759968c>\u001b[0m in \u001b[0;36m<module>\u001b[0;34m()\u001b[0m\n\u001b[1;32m      2\u001b[0m \u001b[0;34m\u001b[0m\u001b[0m\n\u001b[1;32m      3\u001b[0m \u001b[0mpath_to_files\u001b[0m \u001b[0;34m=\u001b[0m \u001b[0;34m'nbeebewang@login.rc.fas.harvard.edu:/n/eddyfs01/pkoo/data/'\u001b[0m\u001b[0;34m\u001b[0m\u001b[0m\n\u001b[0;32m----> 4\u001b[0;31m \u001b[0mfile_names\u001b[0m \u001b[0;34m=\u001b[0m \u001b[0mos\u001b[0m\u001b[0;34m.\u001b[0m\u001b[0mlistdir\u001b[0m\u001b[0;34m(\u001b[0m\u001b[0mpath_to_files\u001b[0m\u001b[0;34m)\u001b[0m\u001b[0;34m\u001b[0m\u001b[0m\n\u001b[0m\u001b[1;32m      5\u001b[0m \u001b[0;34m\u001b[0m\u001b[0m\n",
      "\u001b[0;31mOSError\u001b[0m: [Errno 2] No such file or directory: 'nbeebewang@login.rc.fas.harvard.edu:/n/eddyfs01/pkoo/data/'"
     ]
    }
   ],
   "source": [
    "## GET FILENAMES:\n",
    "    \n",
    "path_to_files = 'nbeebewang@login.rc.fas.harvard.edu:/n/eddyfs01/pkoo/data/opticlobe/data'\n",
    "file_names = os.listdir(path_to_files)\n",
    "    "
   ]
  },
  {
   "cell_type": "code",
   "execution_count": 5,
   "metadata": {
    "collapsed": false
   },
   "outputs": [],
   "source": [
    "ls_output = subprocess.check_output(['ls', '-l'])"
   ]
  },
  {
   "cell_type": "code",
   "execution_count": 6,
   "metadata": {
    "collapsed": false
   },
   "outputs": [
    {
     "data": {
      "text/plain": [
       "'total 59088\\n-rw-r--r--  1 nbw  staff      2855 May 11 11:05 Untitled.ipynb\\n-rw-r--r--  1 nbw  staff    164693 Jun  6 09:12 annotations.ipynb\\n-rw-r--r--  1 nbw  staff      2486 Apr 14 12:30 annotations.py\\n-rw-r--r--  1 nbw  staff      2771 May 11 11:24 annotations_to_h5py.py\\n-rw-r--r--  1 nbw  staff       543 May 12 14:04 bam_to_sam.sh\\ndrwxr-xr-x  5 nbw  staff       170 Jun  3 15:27 examples\\n-rw-r--r--  1 nbw  staff     42202 Jun  3 13:46 filelist.txt\\n-rw-r--r--  1 nbw  staff         6 May 11 15:40 hello.txt\\n-rw-r--r--  1 nbw  staff    204663 Jun  6 09:08 map_reads.ipynb\\n-rw-r--r--  1 nbw  staff       601 May 13 12:55 map_reads.sh\\n-rw-r--r--  1 nbw  staff      2722 May 12 14:34 mapreads.py\\n-rw-r--r--@ 1 nbw  staff      4150 Jun  6 15:37 may10_big_picture.rtf\\n-rw-r--r--  1 nbw  staff  29664960 Jun 13 12:59 new_plots.ipynb\\n-rw-r--r--  1 nbw  staff     15270 Jun  3 13:51 pkoo_opticlobe_samples.txt\\n-rw-r--r--  1 nbw  staff      6154 Jun 16 15:42 rnaseq_pipeline.ipynb\\n-rw-r--r--  1 nbw  staff       503 May 12 14:01 run_bam_to_sam.sh\\n-rw-r--r--  1 nbw  staff       428 May 13 12:55 run_map_reads.sh\\n-rw-r--r--  1 nbw  staff     82983 May 11 11:33 simple_peakfinder.ipynb\\n-rw-r--r--  1 nbw  staff        39 May 11 11:35 test.bash\\n-rwxr-xr-x  1 nbw  staff       619 May 11 11:55 test.sh\\n-rw-r--r--  1 nbw  staff       520 May 11 11:32 test_plots.py\\n'"
      ]
     },
     "execution_count": 6,
     "metadata": {},
     "output_type": "execute_result"
    }
   ],
   "source": [
    "ls_output"
   ]
  },
  {
   "cell_type": "code",
   "execution_count": 7,
   "metadata": {
    "collapsed": false
   },
   "outputs": [],
   "source": [
    "thing = subprocess.call('ls | wc -l', shell=True)"
   ]
  },
  {
   "cell_type": "code",
   "execution_count": 8,
   "metadata": {
    "collapsed": false
   },
   "outputs": [],
   "source": [
    "other = subprocess.Popen('ls | wc -l', shell=True)"
   ]
  },
  {
   "cell_type": "code",
   "execution_count": 10,
   "metadata": {
    "collapsed": false
   },
   "outputs": [
    {
     "ename": "TypeError",
     "evalue": "'NoneType' object is not iterable",
     "output_type": "error",
     "traceback": [
      "\u001b[0;31m---------------------------------------------------------------------------\u001b[0m",
      "\u001b[0;31mTypeError\u001b[0m                                 Traceback (most recent call last)",
      "\u001b[0;32m<ipython-input-10-e6121921abb4>\u001b[0m in \u001b[0;36m<module>\u001b[0;34m()\u001b[0m\n\u001b[1;32m      1\u001b[0m \u001b[0mother\u001b[0m\u001b[0;34m.\u001b[0m\u001b[0mwait\u001b[0m\u001b[0;34m(\u001b[0m\u001b[0;34m)\u001b[0m\u001b[0;34m\u001b[0m\u001b[0m\n\u001b[0;32m----> 2\u001b[0;31m \u001b[0;32mfor\u001b[0m \u001b[0mline\u001b[0m \u001b[0;32min\u001b[0m \u001b[0mother\u001b[0m\u001b[0;34m.\u001b[0m\u001b[0mstdout\u001b[0m\u001b[0;34m:\u001b[0m\u001b[0;34m\u001b[0m\u001b[0m\n\u001b[0m\u001b[1;32m      3\u001b[0m     \u001b[0;32mprint\u001b[0m \u001b[0mline\u001b[0m\u001b[0;34m\u001b[0m\u001b[0m\n",
      "\u001b[0;31mTypeError\u001b[0m: 'NoneType' object is not iterable"
     ]
    }
   ],
   "source": [
    "for line in other.stdout:\n",
    "    print line"
   ]
  },
  {
   "cell_type": "code",
   "execution_count": 12,
   "metadata": {
    "collapsed": false
   },
   "outputs": [
    {
     "name": "stdout",
     "output_type": "stream",
     "text": [
      "0\n"
     ]
    }
   ],
   "source": [
    "proc = subprocess.Popen('ls')\n",
    "proc.wait()\n",
    "print proc.returncode"
   ]
  },
  {
   "cell_type": "code",
   "execution_count": 69,
   "metadata": {
    "collapsed": false
   },
   "outputs": [],
   "source": [
    "files_concat = subprocess.check_output(['ls', 'testrnaseqdata'])\n",
    "zipped_files = [elem for elem in files_concat.split('\\n') if 'fastq' in elem]  "
   ]
  },
  {
   "cell_type": "code",
   "execution_count": 70,
   "metadata": {
    "collapsed": false
   },
   "outputs": [
    {
     "data": {
      "text/plain": [
       "['150420_SN651_0376_AH3FFYBCXX__Sample_L_G_M20_1.fastq',\n",
       " '151028_SN651_0472_BH7YYFBCXX__Sample_LH_101_1.fastq',\n",
       " '151105_SN651_0480_BHFFKLBCXX__Sample_LH_80_1.fastq',\n",
       " '151109_SN651_0481_AHFFKGBCXX__Sample_LH_44_1.fastq']"
      ]
     },
     "execution_count": 70,
     "metadata": {},
     "output_type": "execute_result"
    }
   ],
   "source": [
    "zipped_files"
   ]
  },
  {
   "cell_type": "code",
   "execution_count": 62,
   "metadata": {
    "collapsed": false
   },
   "outputs": [
    {
     "name": "stdout",
     "output_type": "stream",
     "text": [
      "/Users/nbw/Desktop/opticlobe\r\n"
     ]
    }
   ],
   "source": [
    "!pwd\n"
   ]
  },
  {
   "cell_type": "code",
   "execution_count": 65,
   "metadata": {
    "collapsed": false
   },
   "outputs": [
    {
     "name": "stdout",
     "output_type": "stream",
     "text": [
      "^C\r\n"
     ]
    }
   ],
   "source": [
    "!gzip '/Users/nbw/Desktop/opticlobe/testrnaseqdata/150420_SN651_0376_AH3FFYBCXX__Sample_L_G_M20_1.fastq'"
   ]
  },
  {
   "cell_type": "code",
   "execution_count": 57,
   "metadata": {
    "collapsed": false
   },
   "outputs": [],
   "source": [
    "B='/Users/nbw/Desktop/opticlobe/testrnaseqdata/151028_SN651_0472_BH7YYFBCXX__Sample_LH_101_1.fastq.gz'\n",
    "!gunzip $B"
   ]
  },
  {
   "cell_type": "code",
   "execution_count": 71,
   "metadata": {
    "collapsed": true
   },
   "outputs": [],
   "source": [
    "# UNZIP ALL FILES\n",
    "for filename in zipped_files:\n",
    "    if 'fastq.gz' in filename:\n",
    "        PATH_TO_FILE='/Users/nbw/Desktop/opticlobe/testrnaseqdata/' + filename\n",
    "        !gunzip $PATH_TO_FILE"
   ]
  },
  {
   "cell_type": "code",
   "execution_count": 72,
   "metadata": {
    "collapsed": false
   },
   "outputs": [
    {
     "name": "stdout",
     "output_type": "stream",
     "text": [
      "\n",
      "[2016-06-17 09:47:19] Beginning TopHat run (v2.1.0)\n",
      "-----------------------------------------------\n",
      "[2016-06-17 09:47:19] Checking for Bowtie\n",
      "\t\t  Bowtie version:\t 2.2.7.0\n",
      "[2016-06-17 09:47:19] Checking for Bowtie index files (genome)..\n",
      "Error: Could not find Bowtie 2 index files (genome.*.bt2)\n",
      "\n",
      "[2016-06-17 09:47:19] Beginning TopHat run (v2.1.0)\n",
      "-----------------------------------------------\n",
      "[2016-06-17 09:47:19] Checking for Bowtie\n",
      "\t\t  Bowtie version:\t 2.2.7.0\n",
      "[2016-06-17 09:47:19] Checking for Bowtie index files (genome)..\n",
      "Error: Could not find Bowtie 2 index files (genome.*.bt2)\n",
      "\n",
      "[2016-06-17 09:47:19] Beginning TopHat run (v2.1.0)\n",
      "-----------------------------------------------\n",
      "[2016-06-17 09:47:19] Checking for Bowtie\n",
      "\t\t  Bowtie version:\t 2.2.7.0\n",
      "[2016-06-17 09:47:19] Checking for Bowtie index files (genome)..\n",
      "Error: Could not find Bowtie 2 index files (genome.*.bt2)\n",
      "\n",
      "[2016-06-17 09:47:20] Beginning TopHat run (v2.1.0)\n",
      "-----------------------------------------------\n",
      "[2016-06-17 09:47:20] Checking for Bowtie\n",
      "\t\t  Bowtie version:\t 2.2.7.0\n",
      "[2016-06-17 09:47:20] Checking for Bowtie index files (genome)..\n",
      "Error: Could not find Bowtie 2 index files (genome.*.bt2)\n"
     ]
    }
   ],
   "source": [
    "if not os.path.exists('/Users/nbw/Desktop/opticlobe/testrnaseqdata/tophat/'):\n",
    "    os.makedirs('/Users/nbw/Desktop/opticlobe/testrnaseqdata/tophat/')\n",
    "      \n",
    "ANNOSFILE='/Users/nbw/Desktop/ALIGNMENTDATA/dm6_Ensembl.gtf'\n",
    "for filename in zipped_files:\n",
    "    OUTPUT='/Users/nbw/Desktop/opticlobe/testrnaseqdata/tophat/'+ filename + '_align'\n",
    "    PATH_TO_FILE='/Users/nbw/Desktop/opticlobe/testrnaseqdata/' + filename\n",
    "    !tophat2 -p 2 -G $ANNOSFILE -o $OUTPUT genome $PATH_TO_FILE"
   ]
  },
  {
   "cell_type": "code",
   "execution_count": 73,
   "metadata": {
    "collapsed": true
   },
   "outputs": [],
   "source": [
    "OUTPUTPATH='/Users/nbw/Desktop/opticlobe'\n",
    "!mkdir -p $OUTPUTPATH/test"
   ]
  },
  {
   "cell_type": "code",
   "execution_count": null,
   "metadata": {
    "collapsed": true
   },
   "outputs": [],
   "source": []
  }
 ],
 "metadata": {
  "kernelspec": {
   "display_name": "Python 2",
   "language": "python",
   "name": "python2"
  },
  "language_info": {
   "codemirror_mode": {
    "name": "ipython",
    "version": 2
   },
   "file_extension": ".py",
   "mimetype": "text/x-python",
   "name": "python",
   "nbconvert_exporter": "python",
   "pygments_lexer": "ipython2",
   "version": "2.7.11"
  }
 },
 "nbformat": 4,
 "nbformat_minor": 0
}
